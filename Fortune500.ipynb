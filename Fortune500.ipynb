{
 "cells": [
  {
   "cell_type": "code",
   "execution_count": 2,
   "id": "0744355d",
   "metadata": {},
   "outputs": [
    {
     "data": {
      "text/html": [
       "<div>\n",
       "<style scoped>\n",
       "    .dataframe tbody tr th:only-of-type {\n",
       "        vertical-align: middle;\n",
       "    }\n",
       "\n",
       "    .dataframe tbody tr th {\n",
       "        vertical-align: top;\n",
       "    }\n",
       "\n",
       "    .dataframe thead th {\n",
       "        text-align: right;\n",
       "    }\n",
       "</style>\n",
       "<table border=\"1\" class=\"dataframe\">\n",
       "  <thead>\n",
       "    <tr style=\"text-align: right;\">\n",
       "      <th></th>\n",
       "      <th>lon</th>\n",
       "      <th>lat</th>\n",
       "      <th>company</th>\n",
       "      <th>location</th>\n",
       "      <th>industry</th>\n",
       "      <th>state</th>\n",
       "      <th>city</th>\n",
       "    </tr>\n",
       "  </thead>\n",
       "  <tbody>\n",
       "    <tr>\n",
       "      <th>0</th>\n",
       "      <td>-94.2088</td>\n",
       "      <td>36.3729</td>\n",
       "      <td>Walmart</td>\n",
       "      <td>Bentonville, AR</td>\n",
       "      <td>General Merchandisers</td>\n",
       "      <td>AR</td>\n",
       "      <td>Bentonville</td>\n",
       "    </tr>\n",
       "    <tr>\n",
       "      <th>1</th>\n",
       "      <td>-96.9489</td>\n",
       "      <td>32.8140</td>\n",
       "      <td>Exxon Mobil</td>\n",
       "      <td>Irving, TX</td>\n",
       "      <td>Petroleum Refining</td>\n",
       "      <td>TX</td>\n",
       "      <td>Irving</td>\n",
       "    </tr>\n",
       "    <tr>\n",
       "      <th>2</th>\n",
       "      <td>-121.9780</td>\n",
       "      <td>37.7799</td>\n",
       "      <td>Chevron</td>\n",
       "      <td>San Ramon, CA</td>\n",
       "      <td>Petroleum Refining</td>\n",
       "      <td>CA</td>\n",
       "      <td>San Ramon</td>\n",
       "    </tr>\n",
       "    <tr>\n",
       "      <th>3</th>\n",
       "      <td>-95.9980</td>\n",
       "      <td>41.2524</td>\n",
       "      <td>Berkshire Hathaway</td>\n",
       "      <td>Omaha, NE</td>\n",
       "      <td>Insurance: Property and Casualty (Stock)</td>\n",
       "      <td>NE</td>\n",
       "      <td>Omaha</td>\n",
       "    </tr>\n",
       "    <tr>\n",
       "      <th>4</th>\n",
       "      <td>-122.0320</td>\n",
       "      <td>37.3230</td>\n",
       "      <td>Apple</td>\n",
       "      <td>Cupertino, CA</td>\n",
       "      <td>Computers, Office Equipment</td>\n",
       "      <td>CA</td>\n",
       "      <td>Cupertino</td>\n",
       "    </tr>\n",
       "  </tbody>\n",
       "</table>\n",
       "</div>"
      ],
      "text/plain": [
       "        lon      lat             company         location  \\\n",
       "0  -94.2088  36.3729             Walmart  Bentonville, AR   \n",
       "1  -96.9489  32.8140         Exxon Mobil       Irving, TX   \n",
       "2 -121.9780  37.7799             Chevron    San Ramon, CA   \n",
       "3  -95.9980  41.2524  Berkshire Hathaway        Omaha, NE   \n",
       "4 -122.0320  37.3230               Apple    Cupertino, CA   \n",
       "\n",
       "                                   industry state         city  \n",
       "0                     General Merchandisers    AR  Bentonville  \n",
       "1                        Petroleum Refining    TX       Irving  \n",
       "2                        Petroleum Refining    CA    San Ramon  \n",
       "3  Insurance: Property and Casualty (Stock)    NE        Omaha  \n",
       "4               Computers, Office Equipment    CA    Cupertino  "
      ]
     },
     "execution_count": 2,
     "metadata": {},
     "output_type": "execute_result"
    }
   ],
   "source": [
    "import pandas as pd\n",
    "df=pd.read_csv('fortune500.csv')\n",
    "df.head(5)"
   ]
  },
  {
   "cell_type": "code",
   "execution_count": 5,
   "id": "d4a8130e",
   "metadata": {},
   "outputs": [],
   "source": [
    "l=['lon', 'lat', 'company', 'location', 'industry', 'state', 'city']\n",
    "m=[obj.upper() for obj in l]\n",
    "df=df.rename(columns=dict(zip(l,m)))"
   ]
  },
  {
   "cell_type": "code",
   "execution_count": 6,
   "id": "f5c61539",
   "metadata": {},
   "outputs": [
    {
     "data": {
      "text/plain": [
       "Index(['LON', 'LAT', 'COMPANY', 'LOCATION', 'INDUSTRY', 'STATE', 'CITY'], dtype='object')"
      ]
     },
     "execution_count": 6,
     "metadata": {},
     "output_type": "execute_result"
    }
   ],
   "source": [
    "df.columns"
   ]
  },
  {
   "cell_type": "code",
   "execution_count": null,
   "id": "9e49aa96",
   "metadata": {},
   "outputs": [],
   "source": []
  }
 ],
 "metadata": {
  "kernelspec": {
   "display_name": "Python 3",
   "language": "python",
   "name": "python3"
  },
  "language_info": {
   "codemirror_mode": {
    "name": "ipython",
    "version": 3
   },
   "file_extension": ".py",
   "mimetype": "text/x-python",
   "name": "python",
   "nbconvert_exporter": "python",
   "pygments_lexer": "ipython3",
   "version": "3.9.5"
  }
 },
 "nbformat": 4,
 "nbformat_minor": 5
}
