{
 "cells": [
  {
   "cell_type": "code",
   "execution_count": 29,
   "id": "8fb858b9",
   "metadata": {},
   "outputs": [
    {
     "name": "stdout",
     "output_type": "stream",
     "text": [
      "[[ 12  14  25]\n",
      " [ 36  41  67]\n",
      " [ 60  68 109]]\n"
     ]
    }
   ],
   "source": [
    "import numpy as np\n",
    "A=([1,2,3],[4,5,6],[7,8,9])\n",
    "B=([5,5,4],[2,3,9],[1,1,1])\n",
    "C=np.dot(A,B)\n",
    "print(C)"
   ]
  },
  {
   "cell_type": "code",
   "execution_count": 30,
   "id": "d0b5aa61",
   "metadata": {},
   "outputs": [],
   "source": [
    "D=np.array([[1,2],[5,6]])\n",
    "E=np.array([[11],[12]])\n",
    "F=D.dot(E)"
   ]
  },
  {
   "cell_type": "code",
   "execution_count": 31,
   "id": "54c6acd1",
   "metadata": {},
   "outputs": [
    {
     "name": "stdout",
     "output_type": "stream",
     "text": [
      "2\n",
      "6\n"
     ]
    }
   ],
   "source": [
    "G=np.array([[1,2,3],[4,5,6],[7,8,9]])\n",
    "print(G[0][1])\n",
    "print(G[1][2])"
   ]
  },
  {
   "cell_type": "code",
   "execution_count": 32,
   "id": "8e64c5ff",
   "metadata": {},
   "outputs": [
    {
     "name": "stdout",
     "output_type": "stream",
     "text": [
      "[1 2 3]\n",
      "[4 5 6]\n",
      "[7 8 9]\n"
     ]
    }
   ],
   "source": [
    "H=np.array([[1,2,3],[4,5,6],[7,8,9]])\n",
    "for row in H:\n",
    "    print(row)"
   ]
  },
  {
   "cell_type": "code",
   "execution_count": 33,
   "id": "416a9a68",
   "metadata": {},
   "outputs": [
    {
     "name": "stdout",
     "output_type": "stream",
     "text": [
      "1\n",
      "2\n",
      "3\n",
      "4\n",
      "5\n",
      "6\n",
      "7\n",
      "8\n",
      "9\n"
     ]
    }
   ],
   "source": [
    "for num in H.flat:\n",
    "    print(num)"
   ]
  },
  {
   "cell_type": "code",
   "execution_count": 37,
   "id": "d84445b6",
   "metadata": {},
   "outputs": [
    {
     "data": {
      "text/plain": [
       "array([[10],\n",
       "       [20],\n",
       "       [30],\n",
       "       [40],\n",
       "       [50]])"
      ]
     },
     "execution_count": 37,
     "metadata": {},
     "output_type": "execute_result"
    }
   ],
   "source": [
    "np.arange(10,51,10).reshape(5,1)"
   ]
  },
  {
   "cell_type": "code",
   "execution_count": 41,
   "id": "cff768c8",
   "metadata": {},
   "outputs": [
    {
     "name": "stdout",
     "output_type": "stream",
     "text": [
      "[[ 0  1  2  3]\n",
      " [ 4  5  6  7]\n",
      " [ 8  9 10 11]]\n",
      "0\n",
      "1\n",
      "2\n",
      "3\n",
      "4\n",
      "5\n",
      "6\n",
      "7\n",
      "8\n",
      "9\n",
      "10\n",
      "11\n"
     ]
    }
   ],
   "source": [
    "S=np.arange(12).reshape(3,4)\n",
    "print(S)\n",
    "for num in np.nditer(S,order='C'):\n",
    "    print(num)"
   ]
  },
  {
   "cell_type": "code",
   "execution_count": 42,
   "id": "98cbb189",
   "metadata": {},
   "outputs": [
    {
     "name": "stdout",
     "output_type": "stream",
     "text": [
      "0\n",
      "4\n",
      "8\n",
      "1\n",
      "5\n",
      "9\n",
      "2\n",
      "6\n",
      "10\n",
      "3\n",
      "7\n",
      "11\n"
     ]
    }
   ],
   "source": [
    "for num in np.nditer(S,order='F'):\n",
    "    print(num)"
   ]
  },
  {
   "cell_type": "code",
   "execution_count": 46,
   "id": "f97c9635",
   "metadata": {},
   "outputs": [
    {
     "name": "stdout",
     "output_type": "stream",
     "text": [
      "[0 4 8]\n",
      "[1 5 9]\n",
      "[ 2  6 10]\n",
      "[ 3  7 11]\n"
     ]
    }
   ],
   "source": [
    "for x in np.nditer(S,order='F',flags=['external_loop']):\n",
    "    print(x)"
   ]
  },
  {
   "cell_type": "code",
   "execution_count": 48,
   "id": "d46ffc49",
   "metadata": {},
   "outputs": [],
   "source": [
    "for x in np.nditer(S,op_flags=['readwrite']):\n",
    "    x[...]=x*x"
   ]
  },
  {
   "cell_type": "code",
   "execution_count": 49,
   "id": "543ebd79",
   "metadata": {},
   "outputs": [
    {
     "data": {
      "text/plain": [
       "array([[  0,   1,   4,   9],\n",
       "       [ 16,  25,  36,  49],\n",
       "       [ 64,  81, 100, 121]])"
      ]
     },
     "execution_count": 49,
     "metadata": {},
     "output_type": "execute_result"
    }
   ],
   "source": [
    "S"
   ]
  },
  {
   "cell_type": "code",
   "execution_count": 54,
   "id": "4e0e10a2",
   "metadata": {},
   "outputs": [
    {
     "name": "stdout",
     "output_type": "stream",
     "text": [
      "[[ 1  2  3  4]\n",
      " [ 5  6  7  8]\n",
      " [ 9 10 11 12]]\n",
      "[[21 22 23 24]\n",
      " [25 26 27 28]\n",
      " [29 30 31 32]]\n",
      "1 21\n",
      "2 22\n",
      "3 23\n",
      "4 24\n",
      "5 25\n",
      "6 26\n",
      "7 27\n",
      "8 28\n",
      "9 29\n",
      "10 30\n",
      "11 31\n",
      "12 32\n"
     ]
    }
   ],
   "source": [
    "X=np.arange(1,13,1).reshape(3,4)\n",
    "Y=np.arange(21,33,1).reshape(3,4)\n",
    "print(X)\n",
    "print(Y)\n",
    "for x,y in np.nditer([X,Y]):\n",
    "    print(x,y)"
   ]
  },
  {
   "cell_type": "code",
   "execution_count": 56,
   "id": "68e4b0fd",
   "metadata": {},
   "outputs": [
    {
     "data": {
      "text/plain": [
       "array([[1, 2, 3],\n",
       "       [4, 5, 6]])"
      ]
     },
     "execution_count": 56,
     "metadata": {},
     "output_type": "execute_result"
    }
   ],
   "source": [
    "K=np.array([[1,2,3],[4,5,6],[7,8,9]])\n",
    "K[0:2,:]"
   ]
  },
  {
   "cell_type": "code",
   "execution_count": 57,
   "id": "a4fda38b",
   "metadata": {},
   "outputs": [
    {
     "data": {
      "text/plain": [
       "array([1, 2, 3])"
      ]
     },
     "execution_count": 57,
     "metadata": {},
     "output_type": "execute_result"
    }
   ],
   "source": [
    "K[0,:]"
   ]
  },
  {
   "cell_type": "code",
   "execution_count": 58,
   "id": "e34b0191",
   "metadata": {},
   "outputs": [
    {
     "data": {
      "text/plain": [
       "array([[ 1,  2,  3],\n",
       "       [ 4,  5,  6],\n",
       "       [ 7,  8,  9],\n",
       "       [ 5,  6,  7],\n",
       "       [ 8,  9, 10],\n",
       "       [10, 11, 12]])"
      ]
     },
     "execution_count": 58,
     "metadata": {},
     "output_type": "execute_result"
    }
   ],
   "source": [
    "Z=np.array([[1,2,3],[4,5,6],[7,8,9]])\n",
    "W=np.array([[5,6,7],[8,9,10],[10,11,12]])\n",
    "np.vstack((Z,W))"
   ]
  },
  {
   "cell_type": "code",
   "execution_count": 59,
   "id": "f9d03966",
   "metadata": {},
   "outputs": [
    {
     "data": {
      "text/plain": [
       "array([[ 1,  2,  3,  5,  6,  7],\n",
       "       [ 4,  5,  6,  8,  9, 10],\n",
       "       [ 7,  8,  9, 10, 11, 12]])"
      ]
     },
     "execution_count": 59,
     "metadata": {},
     "output_type": "execute_result"
    }
   ],
   "source": [
    "np.hstack((Z,W))"
   ]
  },
  {
   "cell_type": "code",
   "execution_count": 62,
   "id": "8e967ef4",
   "metadata": {},
   "outputs": [],
   "source": [
    "HA=np.arange(50).reshape(2,25)\n",
    "HA\n",
    "TEST=np.hsplit(HA,5)"
   ]
  },
  {
   "cell_type": "code",
   "execution_count": null,
   "id": "cbaa500e",
   "metadata": {},
   "outputs": [],
   "source": [
    "TE"
   ]
  }
 ],
 "metadata": {
  "kernelspec": {
   "display_name": "Python 3",
   "language": "python",
   "name": "python3"
  },
  "language_info": {
   "codemirror_mode": {
    "name": "ipython",
    "version": 3
   },
   "file_extension": ".py",
   "mimetype": "text/x-python",
   "name": "python",
   "nbconvert_exporter": "python",
   "pygments_lexer": "ipython3",
   "version": "3.9.5"
  }
 },
 "nbformat": 4,
 "nbformat_minor": 5
}
