{
 "cells": [
  {
   "cell_type": "code",
   "execution_count": 29,
   "id": "2752214a",
   "metadata": {},
   "outputs": [
    {
     "name": "stdout",
     "output_type": "stream",
     "text": [
      "[[ 12  14  25]\n",
      " [ 36  41  67]\n",
      " [ 60  68 109]]\n"
     ]
    }
   ],
   "source": [
    "import numpy as np\n",
    "A=([1,2,3],[4,5,6],[7,8,9])\n",
    "B=([5,5,4],[2,3,9],[1,1,1])\n",
    "C=np.dot(A,B)\n",
    "print(C)"
   ]
  },
  {
   "cell_type": "code",
   "execution_count": 30,
   "id": "8db6f945",
   "metadata": {},
   "outputs": [],
   "source": [
    "D=np.array([[1,2],[5,6]])\n",
    "E=np.array([[11],[12]])\n",
    "F=D.dot(E)"
   ]
  },
  {
   "cell_type": "code",
   "execution_count": 31,
   "id": "43929e40",
   "metadata": {},
   "outputs": [
    {
     "name": "stdout",
     "output_type": "stream",
     "text": [
      "2\n",
      "6\n"
     ]
    }
   ],
   "source": [
    "G=np.array([[1,2,3],[4,5,6],[7,8,9]])\n",
    "print(G[0][1])\n",
    "print(G[1][2])"
   ]
  },
  {
   "cell_type": "code",
   "execution_count": 32,
   "id": "6688f08a",
   "metadata": {},
   "outputs": [
    {
     "name": "stdout",
     "output_type": "stream",
     "text": [
      "[1 2 3]\n",
      "[4 5 6]\n",
      "[7 8 9]\n"
     ]
    }
   ],
   "source": [
    "H=np.array([[1,2,3],[4,5,6],[7,8,9]])\n",
    "for row in H:\n",
    "    print(row)"
   ]
  },
  {
   "cell_type": "code",
   "execution_count": 33,
   "id": "33e42489",
   "metadata": {},
   "outputs": [
    {
     "name": "stdout",
     "output_type": "stream",
     "text": [
      "1\n",
      "2\n",
      "3\n",
      "4\n",
      "5\n",
      "6\n",
      "7\n",
      "8\n",
      "9\n"
     ]
    }
   ],
   "source": [
    "for num in H.flat:\n",
    "    print(num)"
   ]
  },
  {
   "cell_type": "code",
   "execution_count": 37,
   "id": "d8b9c2ae",
   "metadata": {},
   "outputs": [
    {
     "data": {
      "text/plain": [
       "array([[10],\n",
       "       [20],\n",
       "       [30],\n",
       "       [40],\n",
       "       [50]])"
      ]
     },
     "execution_count": 37,
     "metadata": {},
     "output_type": "execute_result"
    }
   ],
   "source": [
    "np.arange(10,51,10).reshape(5,1)"
   ]
  },
  {
   "cell_type": "code",
   "execution_count": 40,
   "id": "efc96d54",
   "metadata": {},
   "outputs": [
    {
     "name": "stdout",
     "output_type": "stream",
     "text": [
      "[[ 0  1  2  3]\n",
      " [ 4  5  6  7]\n",
      " [ 8  9 10 11]]\n"
     ]
    }
   ],
   "source": [
    "S=np.arange(12).reshape(3,4)\n",
    "print(S)"
   ]
  },
  {
   "cell_type": "code",
   "execution_count": null,
   "id": "19661916",
   "metadata": {},
   "outputs": [],
   "source": []
  }
 ],
 "metadata": {
  "kernelspec": {
   "display_name": "Python 3",
   "language": "python",
   "name": "python3"
  },
  "language_info": {
   "codemirror_mode": {
    "name": "ipython",
    "version": 3
   },
   "file_extension": ".py",
   "mimetype": "text/x-python",
   "name": "python",
   "nbconvert_exporter": "python",
   "pygments_lexer": "ipython3",
   "version": "3.9.5"
  }
 },
 "nbformat": 4,
 "nbformat_minor": 5
}
