{
 "cells": [
  {
   "cell_type": "code",
   "execution_count": 29,
   "id": "6bf0da96",
   "metadata": {},
   "outputs": [
    {
     "name": "stdout",
     "output_type": "stream",
     "text": [
      "[[ 12  14  25]\n",
      " [ 36  41  67]\n",
      " [ 60  68 109]]\n"
     ]
    }
   ],
   "source": [
    "import numpy as np\n",
    "A=([1,2,3],[4,5,6],[7,8,9])\n",
    "B=([5,5,4],[2,3,9],[1,1,1])\n",
    "C=np.dot(A,B)\n",
    "print(C)"
   ]
  },
  {
   "cell_type": "code",
   "execution_count": 30,
   "id": "2166ff98",
   "metadata": {},
   "outputs": [],
   "source": [
    "D=np.array([[1,2],[5,6]])\n",
    "E=np.array([[11],[12]])\n",
    "F=D.dot(E)"
   ]
  },
  {
   "cell_type": "code",
   "execution_count": 31,
   "id": "43c46f73",
   "metadata": {},
   "outputs": [
    {
     "name": "stdout",
     "output_type": "stream",
     "text": [
      "2\n",
      "6\n"
     ]
    }
   ],
   "source": [
    "G=np.array([[1,2,3],[4,5,6],[7,8,9]])\n",
    "print(G[0][1])\n",
    "print(G[1][2])"
   ]
  },
  {
   "cell_type": "code",
   "execution_count": 32,
   "id": "2dbcffbf",
   "metadata": {},
   "outputs": [
    {
     "name": "stdout",
     "output_type": "stream",
     "text": [
      "[1 2 3]\n",
      "[4 5 6]\n",
      "[7 8 9]\n"
     ]
    }
   ],
   "source": [
    "H=np.array([[1,2,3],[4,5,6],[7,8,9]])\n",
    "for row in H:\n",
    "    print(row)"
   ]
  },
  {
   "cell_type": "code",
   "execution_count": 33,
   "id": "5d424f18",
   "metadata": {},
   "outputs": [
    {
     "name": "stdout",
     "output_type": "stream",
     "text": [
      "1\n",
      "2\n",
      "3\n",
      "4\n",
      "5\n",
      "6\n",
      "7\n",
      "8\n",
      "9\n"
     ]
    }
   ],
   "source": [
    "for num in H.flat:\n",
    "    print(num)"
   ]
  },
  {
   "cell_type": "code",
   "execution_count": 37,
   "id": "3247bfd7",
   "metadata": {},
   "outputs": [
    {
     "data": {
      "text/plain": [
       "array([[10],\n",
       "       [20],\n",
       "       [30],\n",
       "       [40],\n",
       "       [50]])"
      ]
     },
     "execution_count": 37,
     "metadata": {},
     "output_type": "execute_result"
    }
   ],
   "source": [
    "np.arange(10,51,10).reshape(5,1)"
   ]
  },
  {
   "cell_type": "code",
   "execution_count": 41,
   "id": "572dd3e9",
   "metadata": {},
   "outputs": [
    {
     "name": "stdout",
     "output_type": "stream",
     "text": [
      "[[ 0  1  2  3]\n",
      " [ 4  5  6  7]\n",
      " [ 8  9 10 11]]\n",
      "0\n",
      "1\n",
      "2\n",
      "3\n",
      "4\n",
      "5\n",
      "6\n",
      "7\n",
      "8\n",
      "9\n",
      "10\n",
      "11\n"
     ]
    }
   ],
   "source": [
    "S=np.arange(12).reshape(3,4)\n",
    "print(S)\n",
    "for num in np.nditer(S,order='C'):\n",
    "    print(num)"
   ]
  },
  {
   "cell_type": "code",
   "execution_count": 42,
   "id": "a977e7c2",
   "metadata": {},
   "outputs": [
    {
     "name": "stdout",
     "output_type": "stream",
     "text": [
      "0\n",
      "4\n",
      "8\n",
      "1\n",
      "5\n",
      "9\n",
      "2\n",
      "6\n",
      "10\n",
      "3\n",
      "7\n",
      "11\n"
     ]
    }
   ],
   "source": [
    "for num in np.nditer(S,order='F'):\n",
    "    print(num)"
   ]
  },
  {
   "cell_type": "code",
   "execution_count": 46,
   "id": "6078bd83",
   "metadata": {},
   "outputs": [
    {
     "name": "stdout",
     "output_type": "stream",
     "text": [
      "[0 4 8]\n",
      "[1 5 9]\n",
      "[ 2  6 10]\n",
      "[ 3  7 11]\n"
     ]
    }
   ],
   "source": [
    "for x in np.nditer(S,order='F',flags=['external_loop']):\n",
    "    print(x)"
   ]
  },
  {
   "cell_type": "code",
   "execution_count": 48,
   "id": "d494e58a",
   "metadata": {},
   "outputs": [],
   "source": [
    "for x in np.nditer(S,op_flags=['readwrite']):\n",
    "    x[...]=x*x"
   ]
  },
  {
   "cell_type": "code",
   "execution_count": 49,
   "id": "027b2f23",
   "metadata": {},
   "outputs": [
    {
     "data": {
      "text/plain": [
       "array([[  0,   1,   4,   9],\n",
       "       [ 16,  25,  36,  49],\n",
       "       [ 64,  81, 100, 121]])"
      ]
     },
     "execution_count": 49,
     "metadata": {},
     "output_type": "execute_result"
    }
   ],
   "source": [
    "S"
   ]
  },
  {
   "cell_type": "code",
   "execution_count": 54,
   "id": "245694cd",
   "metadata": {},
   "outputs": [
    {
     "name": "stdout",
     "output_type": "stream",
     "text": [
      "[[ 1  2  3  4]\n",
      " [ 5  6  7  8]\n",
      " [ 9 10 11 12]]\n",
      "[[21 22 23 24]\n",
      " [25 26 27 28]\n",
      " [29 30 31 32]]\n",
      "1 21\n",
      "2 22\n",
      "3 23\n",
      "4 24\n",
      "5 25\n",
      "6 26\n",
      "7 27\n",
      "8 28\n",
      "9 29\n",
      "10 30\n",
      "11 31\n",
      "12 32\n"
     ]
    }
   ],
   "source": [
    "X=np.arange(1,13,1).reshape(3,4)\n",
    "Y=np.arange(21,33,1).reshape(3,4)\n",
    "print(X)\n",
    "print(Y)\n",
    "for x,y in np.nditer([X,Y]):\n",
    "    print(x,y)"
   ]
  },
  {
   "cell_type": "code",
   "execution_count": 56,
   "id": "e1234b4c",
   "metadata": {},
   "outputs": [
    {
     "data": {
      "text/plain": [
       "array([[1, 2, 3],\n",
       "       [4, 5, 6]])"
      ]
     },
     "execution_count": 56,
     "metadata": {},
     "output_type": "execute_result"
    }
   ],
   "source": [
    "K=np.array([[1,2,3],[4,5,6],[7,8,9]])\n",
    "K[0:2,:]"
   ]
  },
  {
   "cell_type": "code",
   "execution_count": 57,
   "id": "49a9ce58",
   "metadata": {},
   "outputs": [
    {
     "data": {
      "text/plain": [
       "array([1, 2, 3])"
      ]
     },
     "execution_count": 57,
     "metadata": {},
     "output_type": "execute_result"
    }
   ],
   "source": [
    "K[0,:]"
   ]
  },
  {
   "cell_type": "code",
   "execution_count": 58,
   "id": "edc52f9a",
   "metadata": {},
   "outputs": [
    {
     "data": {
      "text/plain": [
       "array([[ 1,  2,  3],\n",
       "       [ 4,  5,  6],\n",
       "       [ 7,  8,  9],\n",
       "       [ 5,  6,  7],\n",
       "       [ 8,  9, 10],\n",
       "       [10, 11, 12]])"
      ]
     },
     "execution_count": 58,
     "metadata": {},
     "output_type": "execute_result"
    }
   ],
   "source": [
    "Z=np.array([[1,2,3],[4,5,6],[7,8,9]])\n",
    "W=np.array([[5,6,7],[8,9,10],[10,11,12]])\n",
    "np.vstack((Z,W))"
   ]
  },
  {
   "cell_type": "code",
   "execution_count": 59,
   "id": "cd29119b",
   "metadata": {},
   "outputs": [
    {
     "data": {
      "text/plain": [
       "array([[ 1,  2,  3,  5,  6,  7],\n",
       "       [ 4,  5,  6,  8,  9, 10],\n",
       "       [ 7,  8,  9, 10, 11, 12]])"
      ]
     },
     "execution_count": 59,
     "metadata": {},
     "output_type": "execute_result"
    }
   ],
   "source": [
    "np.hstack((Z,W))"
   ]
  },
  {
   "cell_type": "code",
   "execution_count": 62,
   "id": "2fd06df0",
   "metadata": {},
   "outputs": [],
   "source": [
    "HA=np.arange(50).reshape(2,25)\n",
    "HA\n",
    "TEST=np.hsplit(HA,5)"
   ]
  },
  {
   "cell_type": "code",
   "execution_count": 63,
   "id": "4c1306d9",
   "metadata": {},
   "outputs": [
    {
     "data": {
      "text/plain": [
       "array([[ 0,  1,  2,  3,  4],\n",
       "       [25, 26, 27, 28, 29]])"
      ]
     },
     "execution_count": 63,
     "metadata": {},
     "output_type": "execute_result"
    }
   ],
   "source": [
    "TEST[0]"
   ]
  },
  {
   "cell_type": "code",
   "execution_count": 64,
   "id": "c2bc18e7",
   "metadata": {},
   "outputs": [
    {
     "data": {
      "text/plain": [
       "array([[ 5,  6,  7,  8,  9],\n",
       "       [30, 31, 32, 33, 34]])"
      ]
     },
     "execution_count": 64,
     "metadata": {},
     "output_type": "execute_result"
    }
   ],
   "source": [
    "TEST[1]"
   ]
  },
  {
   "cell_type": "code",
   "execution_count": 65,
   "id": "bd938af5",
   "metadata": {},
   "outputs": [
    {
     "data": {
      "text/plain": [
       "array([[10, 11, 12, 13, 14],\n",
       "       [35, 36, 37, 38, 39]])"
      ]
     },
     "execution_count": 65,
     "metadata": {},
     "output_type": "execute_result"
    }
   ],
   "source": [
    "TEST[2]"
   ]
  },
  {
   "cell_type": "code",
   "execution_count": 66,
   "id": "2c9b69bf",
   "metadata": {},
   "outputs": [
    {
     "data": {
      "text/plain": [
       "array([[15, 16, 17, 18, 19],\n",
       "       [40, 41, 42, 43, 44]])"
      ]
     },
     "execution_count": 66,
     "metadata": {},
     "output_type": "execute_result"
    }
   ],
   "source": [
    "TEST[3]"
   ]
  },
  {
   "cell_type": "code",
   "execution_count": 67,
   "id": "0d2b8801",
   "metadata": {},
   "outputs": [
    {
     "data": {
      "text/plain": [
       "array([[20, 21, 22, 23, 24],\n",
       "       [45, 46, 47, 48, 49]])"
      ]
     },
     "execution_count": 67,
     "metadata": {},
     "output_type": "execute_result"
    }
   ],
   "source": [
    "TEST[4]"
   ]
  },
  {
   "cell_type": "code",
   "execution_count": 68,
   "id": "c9c0033b",
   "metadata": {},
   "outputs": [],
   "source": [
    "TEST1=np.vsplit(HA,2)"
   ]
  },
  {
   "cell_type": "code",
   "execution_count": 69,
   "id": "3025b0c4",
   "metadata": {},
   "outputs": [
    {
     "data": {
      "text/plain": [
       "array([[ 0,  1,  2,  3,  4,  5,  6,  7,  8,  9, 10, 11, 12, 13, 14, 15,\n",
       "        16, 17, 18, 19, 20, 21, 22, 23, 24]])"
      ]
     },
     "execution_count": 69,
     "metadata": {},
     "output_type": "execute_result"
    }
   ],
   "source": [
    "TEST1[0]"
   ]
  },
  {
   "cell_type": "code",
   "execution_count": 70,
   "id": "2d14483d",
   "metadata": {},
   "outputs": [
    {
     "data": {
      "text/plain": [
       "array([[25, 26, 27, 28, 29, 30, 31, 32, 33, 34, 35, 36, 37, 38, 39, 40,\n",
       "        41, 42, 43, 44, 45, 46, 47, 48, 49]])"
      ]
     },
     "execution_count": 70,
     "metadata": {},
     "output_type": "execute_result"
    }
   ],
   "source": [
    "TEST1[1]"
   ]
  },
  {
   "cell_type": "code",
   "execution_count": 73,
   "id": "4e0691c0",
   "metadata": {},
   "outputs": [
    {
     "data": {
      "text/plain": [
       "array([[False, False, False, False, False],\n",
       "       [False,  True,  True,  True,  True],\n",
       "       [ True,  True,  True,  True,  True]])"
      ]
     },
     "execution_count": 73,
     "metadata": {},
     "output_type": "execute_result"
    }
   ],
   "source": [
    "GH=np.arange(15).reshape(3,5)\n",
    "GH\n",
    "test=GH>5\n",
    "test"
   ]
  },
  {
   "cell_type": "code",
   "execution_count": 74,
   "id": "b0f33cfc",
   "metadata": {},
   "outputs": [
    {
     "data": {
      "text/plain": [
       "array([ 6,  7,  8,  9, 10, 11, 12, 13, 14])"
      ]
     },
     "execution_count": 74,
     "metadata": {},
     "output_type": "execute_result"
    }
   ],
   "source": [
    "GH[test]"
   ]
  },
  {
   "cell_type": "code",
   "execution_count": 76,
   "id": "98455fe3",
   "metadata": {},
   "outputs": [
    {
     "data": {
      "text/plain": [
       "array([[1.+0.j, 2.+0.j, 3.+0.j],\n",
       "       [4.+0.j, 5.+0.j, 6.+0.j],\n",
       "       [7.+0.j, 8.+0.j, 9.+0.j]])"
      ]
     },
     "execution_count": 76,
     "metadata": {},
     "output_type": "execute_result"
    }
   ],
   "source": [
    "a=np.array([[1,2,3],[4,5,6],[7,8,9]],dtype=complex)\n",
    "a"
   ]
  },
  {
   "cell_type": "code",
   "execution_count": 77,
   "id": "bbe9a27a",
   "metadata": {},
   "outputs": [
    {
     "data": {
      "text/plain": [
       "array([[0., 0., 0., 0.],\n",
       "       [0., 0., 0., 0.],\n",
       "       [0., 0., 0., 0.]])"
      ]
     },
     "execution_count": 77,
     "metadata": {},
     "output_type": "execute_result"
    }
   ],
   "source": [
    "np.zeros((3,4))"
   ]
  },
  {
   "cell_type": "code",
   "execution_count": null,
   "id": "c6504c07",
   "metadata": {},
   "outputs": [],
   "source": []
  }
 ],
 "metadata": {
  "kernelspec": {
   "display_name": "Python 3",
   "language": "python",
   "name": "python3"
  },
  "language_info": {
   "codemirror_mode": {
    "name": "ipython",
    "version": 3
   },
   "file_extension": ".py",
   "mimetype": "text/x-python",
   "name": "python",
   "nbconvert_exporter": "python",
   "pygments_lexer": "ipython3",
   "version": "3.9.5"
  }
 },
 "nbformat": 4,
 "nbformat_minor": 5
}
